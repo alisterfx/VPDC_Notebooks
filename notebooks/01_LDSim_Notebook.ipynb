{
 "cells": [
  {
   "cell_type": "markdown",
   "id": "e5099f51",
   "metadata": {},
   "source": [
    "## Explore LDSim GPU data via Jupyter notebook"
   ]
  },
  {
   "cell_type": "markdown",
   "id": "da7c1299",
   "metadata": {},
   "source": [
    "#### This notebook is relient on several free and open-source python packages, such as [leafmap](https://leafmap.org), [ipyleaflet](https://ipyleaflet.readthedocs.io/en/latest/), [GeoPandas](https://geopandas.org/en/stable/), [Fiona](https://pypi.org/project/Fiona/), [Rasterio](https://rasterio.readthedocs.io/en/stable/), and [matplotlib](https://matplotlib.org/) that each contribute different tools in Python that empower users to do interactive mapping, geospatial analysis, and data visualization within a Jupyter notebook. Leafmap is a python package that enables geospatial analysis and interactive mapping within a Jupyter environment. Leafmap is built off of several other open-source packages, such as ipyleaflet which enables complex interactive mapping, WhiteboxTools and whiteboxgui, which allow for complex geospatial analysis, and ipywidgets for designing interactive graphical user interfaces [GUIs]). \n",
    "\n",
    "**<span style=\"color:red\">NOTE: Many of these tools will need ample time to run depending on contributing factors such as the complexity of the data package, network speed, and server load.</span>**"
   ]
  },
  {
   "cell_type": "markdown",
   "id": "15dc9a4f",
   "metadata": {},
   "source": [
    "Begin by installing both packages: [leafmap](https://leafmap.org)  and [GeoPandas](https://geopandas.org/en/stable/).\n",
    "\n",
    "**Note:** If you already have leafmap and geopandas installed, comment out the code below by adding \"#\" in front of each line. \n",
    "`# !pip install leafmap`"
   ]
  },
  {
   "cell_type": "code",
   "execution_count": 2,
   "id": "600967c5",
   "metadata": {},
   "outputs": [
    {
     "name": "stdout",
     "output_type": "stream",
     "text": [
      "Requirement already satisfied: leafmap in /Users/alister/anaconda3/lib/python3.9/site-packages (0.18.10)\n",
      "Requirement already satisfied: ipyfilechooser>=0.6.0 in /Users/alister/anaconda3/lib/python3.9/site-packages (from leafmap) (0.6.0)\n",
      "Requirement already satisfied: python-box in /Users/alister/anaconda3/lib/python3.9/site-packages (from leafmap) (6.1.0)\n",
      "Requirement already satisfied: pandas in /Users/alister/anaconda3/lib/python3.9/site-packages (from leafmap) (1.4.4)\n",
      "Requirement already satisfied: numpy in /Users/alister/anaconda3/lib/python3.9/site-packages (from leafmap) (1.21.5)\n",
      "Requirement already satisfied: ipyevents in /Users/alister/anaconda3/lib/python3.9/site-packages (from leafmap) (2.0.1)\n",
      "Requirement already satisfied: colour in /Users/alister/anaconda3/lib/python3.9/site-packages (from leafmap) (0.1.5)\n",
      "Requirement already satisfied: pystac-client in /Users/alister/anaconda3/lib/python3.9/site-packages (from leafmap) (0.5.1)\n",
      "Requirement already satisfied: xyzservices in /Users/alister/anaconda3/lib/python3.9/site-packages (from leafmap) (2022.9.0)\n",
      "Requirement already satisfied: gdown in /Users/alister/anaconda3/lib/python3.9/site-packages (from leafmap) (4.6.0)\n",
      "Requirement already satisfied: bqplot in /Users/alister/anaconda3/lib/python3.9/site-packages (from leafmap) (0.12.36)\n",
      "Requirement already satisfied: scooby in /Users/alister/anaconda3/lib/python3.9/site-packages (from leafmap) (0.7.0)\n",
      "Requirement already satisfied: ipyleaflet>=0.17.0 in /Users/alister/anaconda3/lib/python3.9/site-packages (from leafmap) (0.17.2)\n",
      "Requirement already satisfied: whiteboxgui>=0.6.0 in /Users/alister/anaconda3/lib/python3.9/site-packages (from leafmap) (2.2.0)\n",
      "Requirement already satisfied: ipywidgets<8.0.0 in /Users/alister/anaconda3/lib/python3.9/site-packages (from leafmap) (7.6.5)\n",
      "Requirement already satisfied: pyshp>=2.1.3 in /Users/alister/anaconda3/lib/python3.9/site-packages (from leafmap) (2.3.1)\n",
      "Requirement already satisfied: folium<=0.13.0,>=0.11.0 in /Users/alister/anaconda3/lib/python3.9/site-packages (from leafmap) (0.13.0)\n",
      "Requirement already satisfied: geojson in /Users/alister/anaconda3/lib/python3.9/site-packages (from leafmap) (2.5.0)\n",
      "Requirement already satisfied: matplotlib in /Users/alister/anaconda3/lib/python3.9/site-packages (from leafmap) (3.6.2)\n",
      "Requirement already satisfied: jinja2>=2.9 in /Users/alister/anaconda3/lib/python3.9/site-packages (from folium<=0.13.0,>=0.11.0->leafmap) (2.11.3)\n",
      "Requirement already satisfied: requests in /Users/alister/anaconda3/lib/python3.9/site-packages (from folium<=0.13.0,>=0.11.0->leafmap) (2.28.1)\n",
      "Requirement already satisfied: branca>=0.3.0 in /Users/alister/anaconda3/lib/python3.9/site-packages (from folium<=0.13.0,>=0.11.0->leafmap) (0.6.0)\n",
      "Requirement already satisfied: traittypes<3,>=0.2.1 in /Users/alister/anaconda3/lib/python3.9/site-packages (from ipyleaflet>=0.17.0->leafmap) (0.2.1)\n",
      "Requirement already satisfied: ipykernel>=4.5.1 in /Users/alister/anaconda3/lib/python3.9/site-packages (from ipywidgets<8.0.0->leafmap) (6.15.2)\n",
      "Requirement already satisfied: jupyterlab-widgets>=1.0.0 in /Users/alister/anaconda3/lib/python3.9/site-packages (from ipywidgets<8.0.0->leafmap) (1.0.0)\n",
      "Requirement already satisfied: traitlets>=4.3.1 in /Users/alister/anaconda3/lib/python3.9/site-packages (from ipywidgets<8.0.0->leafmap) (5.7.1)\n",
      "Requirement already satisfied: ipython>=4.0.0 in /Users/alister/anaconda3/lib/python3.9/site-packages (from ipywidgets<8.0.0->leafmap) (7.31.1)\n",
      "Requirement already satisfied: ipython-genutils~=0.2.0 in /Users/alister/anaconda3/lib/python3.9/site-packages (from ipywidgets<8.0.0->leafmap) (0.2.0)\n",
      "Requirement already satisfied: widgetsnbextension~=3.5.0 in /Users/alister/anaconda3/lib/python3.9/site-packages (from ipywidgets<8.0.0->leafmap) (3.5.2)\n",
      "Requirement already satisfied: nbformat>=4.2.0 in /Users/alister/anaconda3/lib/python3.9/site-packages (from ipywidgets<8.0.0->leafmap) (5.7.0)\n",
      "Requirement already satisfied: ipytree in /Users/alister/anaconda3/lib/python3.9/site-packages (from whiteboxgui>=0.6.0->leafmap) (0.2.2)\n",
      "Requirement already satisfied: whitebox in /Users/alister/anaconda3/lib/python3.9/site-packages (from whiteboxgui>=0.6.0->leafmap) (2.2.0)\n",
      "Requirement already satisfied: python-dateutil>=2.8.1 in /Users/alister/anaconda3/lib/python3.9/site-packages (from pandas->leafmap) (2.8.2)\n",
      "Requirement already satisfied: pytz>=2020.1 in /Users/alister/anaconda3/lib/python3.9/site-packages (from pandas->leafmap) (2022.7)\n",
      "Requirement already satisfied: filelock in /Users/alister/anaconda3/lib/python3.9/site-packages (from gdown->leafmap) (3.6.0)\n",
      "Requirement already satisfied: six in /Users/alister/anaconda3/lib/python3.9/site-packages (from gdown->leafmap) (1.16.0)\n",
      "Requirement already satisfied: beautifulsoup4 in /Users/alister/anaconda3/lib/python3.9/site-packages (from gdown->leafmap) (4.6.3)\n",
      "Requirement already satisfied: tqdm in /Users/alister/anaconda3/lib/python3.9/site-packages (from gdown->leafmap) (4.64.1)\n",
      "Requirement already satisfied: kiwisolver>=1.0.1 in /Users/alister/anaconda3/lib/python3.9/site-packages (from matplotlib->leafmap) (1.4.2)\n",
      "Requirement already satisfied: fonttools>=4.22.0 in /Users/alister/anaconda3/lib/python3.9/site-packages (from matplotlib->leafmap) (4.25.0)\n",
      "Requirement already satisfied: contourpy>=1.0.1 in /Users/alister/anaconda3/lib/python3.9/site-packages (from matplotlib->leafmap) (1.0.5)\n",
      "Requirement already satisfied: packaging>=20.0 in /Users/alister/anaconda3/lib/python3.9/site-packages (from matplotlib->leafmap) (21.3)\n",
      "Requirement already satisfied: pillow>=6.2.0 in /Users/alister/anaconda3/lib/python3.9/site-packages (from matplotlib->leafmap) (9.3.0)\n",
      "Requirement already satisfied: cycler>=0.10 in /Users/alister/anaconda3/lib/python3.9/site-packages (from matplotlib->leafmap) (0.11.0)\n",
      "Requirement already satisfied: pyparsing>=2.2.1 in /Users/alister/anaconda3/lib/python3.9/site-packages (from matplotlib->leafmap) (3.0.9)\n",
      "Requirement already satisfied: pystac>=1.4.0 in /Users/alister/anaconda3/lib/python3.9/site-packages (from pystac-client->leafmap) (1.6.1)\n",
      "Requirement already satisfied: appnope in /Users/alister/anaconda3/lib/python3.9/site-packages (from ipykernel>=4.5.1->ipywidgets<8.0.0->leafmap) (0.1.2)\n",
      "Requirement already satisfied: debugpy>=1.0 in /Users/alister/anaconda3/lib/python3.9/site-packages (from ipykernel>=4.5.1->ipywidgets<8.0.0->leafmap) (1.5.1)\n",
      "Requirement already satisfied: tornado>=6.1 in /Users/alister/anaconda3/lib/python3.9/site-packages (from ipykernel>=4.5.1->ipywidgets<8.0.0->leafmap) (6.2)\n",
      "Requirement already satisfied: nest-asyncio in /Users/alister/anaconda3/lib/python3.9/site-packages (from ipykernel>=4.5.1->ipywidgets<8.0.0->leafmap) (1.5.5)\n",
      "Requirement already satisfied: matplotlib-inline>=0.1 in /Users/alister/anaconda3/lib/python3.9/site-packages (from ipykernel>=4.5.1->ipywidgets<8.0.0->leafmap) (0.1.6)\n",
      "Requirement already satisfied: pyzmq>=17 in /Users/alister/anaconda3/lib/python3.9/site-packages (from ipykernel>=4.5.1->ipywidgets<8.0.0->leafmap) (23.2.0)\n",
      "Requirement already satisfied: jupyter-client>=6.1.12 in /Users/alister/anaconda3/lib/python3.9/site-packages (from ipykernel>=4.5.1->ipywidgets<8.0.0->leafmap) (7.4.8)\n",
      "Requirement already satisfied: psutil in /Users/alister/anaconda3/lib/python3.9/site-packages (from ipykernel>=4.5.1->ipywidgets<8.0.0->leafmap) (5.9.0)\n",
      "Requirement already satisfied: pickleshare in /Users/alister/anaconda3/lib/python3.9/site-packages (from ipython>=4.0.0->ipywidgets<8.0.0->leafmap) (0.7.5)\n",
      "Requirement already satisfied: decorator in /Users/alister/anaconda3/lib/python3.9/site-packages (from ipython>=4.0.0->ipywidgets<8.0.0->leafmap) (5.1.1)\n",
      "Requirement already satisfied: backcall in /Users/alister/anaconda3/lib/python3.9/site-packages (from ipython>=4.0.0->ipywidgets<8.0.0->leafmap) (0.2.0)\n",
      "Requirement already satisfied: pexpect>4.3 in /Users/alister/anaconda3/lib/python3.9/site-packages (from ipython>=4.0.0->ipywidgets<8.0.0->leafmap) (4.8.0)\n",
      "Requirement already satisfied: setuptools>=18.5 in /Users/alister/anaconda3/lib/python3.9/site-packages (from ipython>=4.0.0->ipywidgets<8.0.0->leafmap) (65.5.0)\n",
      "Requirement already satisfied: prompt-toolkit!=3.0.0,!=3.0.1,<3.1.0,>=2.0.0 in /Users/alister/anaconda3/lib/python3.9/site-packages (from ipython>=4.0.0->ipywidgets<8.0.0->leafmap) (3.0.20)\n",
      "Requirement already satisfied: pygments in /Users/alister/anaconda3/lib/python3.9/site-packages (from ipython>=4.0.0->ipywidgets<8.0.0->leafmap) (2.15.0)\n",
      "Requirement already satisfied: jedi>=0.16 in /Users/alister/anaconda3/lib/python3.9/site-packages (from ipython>=4.0.0->ipywidgets<8.0.0->leafmap) (0.18.1)\n",
      "Requirement already satisfied: MarkupSafe>=0.23 in /Users/alister/anaconda3/lib/python3.9/site-packages (from jinja2>=2.9->folium<=0.13.0,>=0.11.0->leafmap) (2.0.1)\n",
      "Requirement already satisfied: fastjsonschema in /Users/alister/anaconda3/lib/python3.9/site-packages (from nbformat>=4.2.0->ipywidgets<8.0.0->leafmap) (2.16.2)\n",
      "Requirement already satisfied: jupyter-core in /Users/alister/anaconda3/lib/python3.9/site-packages (from nbformat>=4.2.0->ipywidgets<8.0.0->leafmap) (5.1.1)\n",
      "Requirement already satisfied: jsonschema>=2.6 in /Users/alister/anaconda3/lib/python3.9/site-packages (from nbformat>=4.2.0->ipywidgets<8.0.0->leafmap) (4.16.0)\n",
      "Requirement already satisfied: charset-normalizer<3,>=2 in /Users/alister/anaconda3/lib/python3.9/site-packages (from requests->folium<=0.13.0,>=0.11.0->leafmap) (2.0.4)\n",
      "Requirement already satisfied: urllib3<1.27,>=1.21.1 in /Users/alister/anaconda3/lib/python3.9/site-packages (from requests->folium<=0.13.0,>=0.11.0->leafmap) (1.26.13)\n",
      "Requirement already satisfied: idna<4,>=2.5 in /Users/alister/anaconda3/lib/python3.9/site-packages (from requests->folium<=0.13.0,>=0.11.0->leafmap) (3.4)\n",
      "Requirement already satisfied: certifi>=2017.4.17 in /Users/alister/anaconda3/lib/python3.9/site-packages (from requests->folium<=0.13.0,>=0.11.0->leafmap) (2022.12.7)\n",
      "Requirement already satisfied: notebook>=4.4.1 in /Users/alister/anaconda3/lib/python3.9/site-packages (from widgetsnbextension~=3.5.0->ipywidgets<8.0.0->leafmap) (6.5.2)\n",
      "Requirement already satisfied: PySocks!=1.5.7,>=1.5.6 in /Users/alister/anaconda3/lib/python3.9/site-packages (from requests->folium<=0.13.0,>=0.11.0->leafmap) (1.7.1)\n",
      "Requirement already satisfied: Click>=6.0 in /Users/alister/anaconda3/lib/python3.9/site-packages (from whitebox->whiteboxgui>=0.6.0->leafmap) (8.0.4)\n",
      "Requirement already satisfied: parso<0.9.0,>=0.8.0 in /Users/alister/anaconda3/lib/python3.9/site-packages (from jedi>=0.16->ipython>=4.0.0->ipywidgets<8.0.0->leafmap) (0.8.3)\n",
      "Requirement already satisfied: pyrsistent!=0.17.0,!=0.17.1,!=0.17.2,>=0.14.0 in /Users/alister/anaconda3/lib/python3.9/site-packages (from jsonschema>=2.6->nbformat>=4.2.0->ipywidgets<8.0.0->leafmap) (0.18.0)\n",
      "Requirement already satisfied: attrs>=17.4.0 in /Users/alister/anaconda3/lib/python3.9/site-packages (from jsonschema>=2.6->nbformat>=4.2.0->ipywidgets<8.0.0->leafmap) (22.1.0)\n",
      "Requirement already satisfied: entrypoints in /Users/alister/anaconda3/lib/python3.9/site-packages (from jupyter-client>=6.1.12->ipykernel>=4.5.1->ipywidgets<8.0.0->leafmap) (0.4)\n",
      "Requirement already satisfied: platformdirs>=2.5 in /Users/alister/anaconda3/lib/python3.9/site-packages (from jupyter-core->nbformat>=4.2.0->ipywidgets<8.0.0->leafmap) (2.5.2)\n",
      "Requirement already satisfied: nbclassic>=0.4.7 in /Users/alister/anaconda3/lib/python3.9/site-packages (from notebook>=4.4.1->widgetsnbextension~=3.5.0->ipywidgets<8.0.0->leafmap) (0.4.8)\n",
      "Requirement already satisfied: terminado>=0.8.3 in /Users/alister/anaconda3/lib/python3.9/site-packages (from notebook>=4.4.1->widgetsnbextension~=3.5.0->ipywidgets<8.0.0->leafmap) (0.17.1)\n",
      "Requirement already satisfied: prometheus-client in /Users/alister/anaconda3/lib/python3.9/site-packages (from notebook>=4.4.1->widgetsnbextension~=3.5.0->ipywidgets<8.0.0->leafmap) (0.14.1)\n",
      "Requirement already satisfied: argon2-cffi in /Users/alister/anaconda3/lib/python3.9/site-packages (from notebook>=4.4.1->widgetsnbextension~=3.5.0->ipywidgets<8.0.0->leafmap) (21.3.0)\n",
      "Requirement already satisfied: nbconvert>=5 in /Users/alister/anaconda3/lib/python3.9/site-packages (from notebook>=4.4.1->widgetsnbextension~=3.5.0->ipywidgets<8.0.0->leafmap) (6.4.4)\n",
      "Requirement already satisfied: Send2Trash>=1.8.0 in /Users/alister/anaconda3/lib/python3.9/site-packages (from notebook>=4.4.1->widgetsnbextension~=3.5.0->ipywidgets<8.0.0->leafmap) (1.8.0)\n",
      "Requirement already satisfied: ptyprocess>=0.5 in /Users/alister/anaconda3/lib/python3.9/site-packages (from pexpect>4.3->ipython>=4.0.0->ipywidgets<8.0.0->leafmap) (0.7.0)\n",
      "Requirement already satisfied: wcwidth in /Users/alister/anaconda3/lib/python3.9/site-packages (from prompt-toolkit!=3.0.0,!=3.0.1,<3.1.0,>=2.0.0->ipython>=4.0.0->ipywidgets<8.0.0->leafmap) (0.2.5)\n",
      "Requirement already satisfied: notebook-shim>=0.1.0 in /Users/alister/anaconda3/lib/python3.9/site-packages (from nbclassic>=0.4.7->notebook>=4.4.1->widgetsnbextension~=3.5.0->ipywidgets<8.0.0->leafmap) (0.2.2)\n",
      "Requirement already satisfied: jupyter-server>=1.8 in /Users/alister/anaconda3/lib/python3.9/site-packages (from nbclassic>=0.4.7->notebook>=4.4.1->widgetsnbextension~=3.5.0->ipywidgets<8.0.0->leafmap) (1.23.4)\n",
      "Requirement already satisfied: bleach in /Users/alister/anaconda3/lib/python3.9/site-packages (from nbconvert>=5->notebook>=4.4.1->widgetsnbextension~=3.5.0->ipywidgets<8.0.0->leafmap) (4.1.0)\n",
      "Requirement already satisfied: defusedxml in /Users/alister/anaconda3/lib/python3.9/site-packages (from nbconvert>=5->notebook>=4.4.1->widgetsnbextension~=3.5.0->ipywidgets<8.0.0->leafmap) (0.7.1)\n",
      "Requirement already satisfied: jupyterlab-pygments in /Users/alister/anaconda3/lib/python3.9/site-packages (from nbconvert>=5->notebook>=4.4.1->widgetsnbextension~=3.5.0->ipywidgets<8.0.0->leafmap) (0.1.2)\n",
      "Requirement already satisfied: mistune<2,>=0.8.1 in /Users/alister/anaconda3/lib/python3.9/site-packages (from nbconvert>=5->notebook>=4.4.1->widgetsnbextension~=3.5.0->ipywidgets<8.0.0->leafmap) (0.8.4)\n",
      "Requirement already satisfied: pandocfilters>=1.4.1 in /Users/alister/anaconda3/lib/python3.9/site-packages (from nbconvert>=5->notebook>=4.4.1->widgetsnbextension~=3.5.0->ipywidgets<8.0.0->leafmap) (1.5.0)\n",
      "Requirement already satisfied: nbclient<0.6.0,>=0.5.0 in /Users/alister/anaconda3/lib/python3.9/site-packages (from nbconvert>=5->notebook>=4.4.1->widgetsnbextension~=3.5.0->ipywidgets<8.0.0->leafmap) (0.5.13)\n",
      "Requirement already satisfied: testpath in /Users/alister/anaconda3/lib/python3.9/site-packages (from nbconvert>=5->notebook>=4.4.1->widgetsnbextension~=3.5.0->ipywidgets<8.0.0->leafmap) (0.6.0)\n",
      "Requirement already satisfied: argon2-cffi-bindings in /Users/alister/anaconda3/lib/python3.9/site-packages (from argon2-cffi->notebook>=4.4.1->widgetsnbextension~=3.5.0->ipywidgets<8.0.0->leafmap) (21.2.0)\n",
      "Requirement already satisfied: websocket-client in /Users/alister/anaconda3/lib/python3.9/site-packages (from jupyter-server>=1.8->nbclassic>=0.4.7->notebook>=4.4.1->widgetsnbextension~=3.5.0->ipywidgets<8.0.0->leafmap) (0.58.0)\n",
      "Requirement already satisfied: anyio<4,>=3.1.0 in /Users/alister/anaconda3/lib/python3.9/site-packages (from jupyter-server>=1.8->nbclassic>=0.4.7->notebook>=4.4.1->widgetsnbextension~=3.5.0->ipywidgets<8.0.0->leafmap) (3.5.0)\n",
      "Requirement already satisfied: cffi>=1.0.1 in /Users/alister/anaconda3/lib/python3.9/site-packages (from argon2-cffi-bindings->argon2-cffi->notebook>=4.4.1->widgetsnbextension~=3.5.0->ipywidgets<8.0.0->leafmap) (1.15.1)\n",
      "Requirement already satisfied: webencodings in /Users/alister/anaconda3/lib/python3.9/site-packages (from bleach->nbconvert>=5->notebook>=4.4.1->widgetsnbextension~=3.5.0->ipywidgets<8.0.0->leafmap) (0.5.1)\n",
      "Requirement already satisfied: sniffio>=1.1 in /Users/alister/anaconda3/lib/python3.9/site-packages (from anyio<4,>=3.1.0->jupyter-server>=1.8->nbclassic>=0.4.7->notebook>=4.4.1->widgetsnbextension~=3.5.0->ipywidgets<8.0.0->leafmap) (1.2.0)\n",
      "Requirement already satisfied: pycparser in /Users/alister/anaconda3/lib/python3.9/site-packages (from cffi>=1.0.1->argon2-cffi-bindings->argon2-cffi->notebook>=4.4.1->widgetsnbextension~=3.5.0->ipywidgets<8.0.0->leafmap) (2.21)\n",
      "Requirement already satisfied: geopandas in /Users/alister/anaconda3/lib/python3.9/site-packages (0.12.2)\n",
      "Requirement already satisfied: pyproj>=2.6.1.post1 in /Users/alister/anaconda3/lib/python3.9/site-packages (from geopandas) (3.4.1)\n",
      "Requirement already satisfied: fiona>=1.8 in /Users/alister/anaconda3/lib/python3.9/site-packages (from geopandas) (1.8.22)\n",
      "Requirement already satisfied: pandas>=1.0.0 in /Users/alister/anaconda3/lib/python3.9/site-packages (from geopandas) (1.4.4)\n",
      "Requirement already satisfied: shapely>=1.7 in /Users/alister/anaconda3/lib/python3.9/site-packages (from geopandas) (2.0.0)\n",
      "Requirement already satisfied: packaging in /Users/alister/anaconda3/lib/python3.9/site-packages (from geopandas) (21.3)\n",
      "Requirement already satisfied: setuptools in /Users/alister/anaconda3/lib/python3.9/site-packages (from fiona>=1.8->geopandas) (65.5.0)\n",
      "Requirement already satisfied: six>=1.7 in /Users/alister/anaconda3/lib/python3.9/site-packages (from fiona>=1.8->geopandas) (1.16.0)\n",
      "Requirement already satisfied: certifi in /Users/alister/anaconda3/lib/python3.9/site-packages (from fiona>=1.8->geopandas) (2022.12.7)\n",
      "Requirement already satisfied: attrs>=17 in /Users/alister/anaconda3/lib/python3.9/site-packages (from fiona>=1.8->geopandas) (22.1.0)\n",
      "Requirement already satisfied: click>=4.0 in /Users/alister/anaconda3/lib/python3.9/site-packages (from fiona>=1.8->geopandas) (8.0.4)\n",
      "Requirement already satisfied: cligj>=0.5 in /Users/alister/anaconda3/lib/python3.9/site-packages (from fiona>=1.8->geopandas) (0.7.2)\n",
      "Requirement already satisfied: click-plugins>=1.0 in /Users/alister/anaconda3/lib/python3.9/site-packages (from fiona>=1.8->geopandas) (1.1.1)\n",
      "Requirement already satisfied: munch in /Users/alister/anaconda3/lib/python3.9/site-packages (from fiona>=1.8->geopandas) (2.5.0)\n",
      "Requirement already satisfied: python-dateutil>=2.8.1 in /Users/alister/anaconda3/lib/python3.9/site-packages (from pandas>=1.0.0->geopandas) (2.8.2)\n",
      "Requirement already satisfied: pytz>=2020.1 in /Users/alister/anaconda3/lib/python3.9/site-packages (from pandas>=1.0.0->geopandas) (2022.7)\n",
      "Requirement already satisfied: numpy>=1.18.5 in /Users/alister/anaconda3/lib/python3.9/site-packages (from pandas>=1.0.0->geopandas) (1.21.5)\n",
      "Requirement already satisfied: pyparsing!=3.0.5,>=2.0.2 in /Users/alister/anaconda3/lib/python3.9/site-packages (from packaging->geopandas) (3.0.9)\n",
      "Requirement already satisfied: mapclassify in /Users/alister/anaconda3/lib/python3.9/site-packages (2.5.0)\n",
      "Requirement already satisfied: scikit-learn in /Users/alister/anaconda3/lib/python3.9/site-packages (from mapclassify) (1.0.2)\n",
      "Requirement already satisfied: numpy>=1.3 in /Users/alister/anaconda3/lib/python3.9/site-packages (from mapclassify) (1.21.5)\n",
      "Requirement already satisfied: networkx in /Users/alister/anaconda3/lib/python3.9/site-packages (from mapclassify) (2.8.4)\n",
      "Requirement already satisfied: pandas>=1.0 in /Users/alister/anaconda3/lib/python3.9/site-packages (from mapclassify) (1.4.4)\n",
      "Requirement already satisfied: scipy>=1.0 in /Users/alister/anaconda3/lib/python3.9/site-packages (from mapclassify) (1.7.3)\n",
      "Requirement already satisfied: python-dateutil>=2.8.1 in /Users/alister/anaconda3/lib/python3.9/site-packages (from pandas>=1.0->mapclassify) (2.8.2)\n",
      "Requirement already satisfied: pytz>=2020.1 in /Users/alister/anaconda3/lib/python3.9/site-packages (from pandas>=1.0->mapclassify) (2022.7)\n",
      "Requirement already satisfied: joblib>=0.11 in /Users/alister/anaconda3/lib/python3.9/site-packages (from scikit-learn->mapclassify) (1.1.1)\n",
      "Requirement already satisfied: threadpoolctl>=2.0.0 in /Users/alister/anaconda3/lib/python3.9/site-packages (from scikit-learn->mapclassify) (2.2.0)\n",
      "Requirement already satisfied: six>=1.5 in /Users/alister/anaconda3/lib/python3.9/site-packages (from python-dateutil>=2.8.1->pandas>=1.0->mapclassify) (1.16.0)\n",
      "Requirement already satisfied: topojson in /Users/alister/anaconda3/lib/python3.9/site-packages (1.5)\n",
      "Requirement already satisfied: shapely in /Users/alister/anaconda3/lib/python3.9/site-packages (from topojson) (2.0.0)\n",
      "Requirement already satisfied: numpy in /Users/alister/anaconda3/lib/python3.9/site-packages (from topojson) (1.21.5)\n",
      "Requirement already satisfied: chart_studio in /Users/alister/anaconda3/lib/python3.9/site-packages (1.1.0)\n",
      "Requirement already satisfied: plotly in /Users/alister/anaconda3/lib/python3.9/site-packages (from chart_studio) (5.9.0)\n",
      "Requirement already satisfied: six in /Users/alister/anaconda3/lib/python3.9/site-packages (from chart_studio) (1.16.0)\n",
      "Requirement already satisfied: retrying>=1.3.3 in /Users/alister/anaconda3/lib/python3.9/site-packages (from chart_studio) (1.3.4)\n",
      "Requirement already satisfied: requests in /Users/alister/anaconda3/lib/python3.9/site-packages (from chart_studio) (2.28.1)\n",
      "Requirement already satisfied: tenacity>=6.2.0 in /Users/alister/anaconda3/lib/python3.9/site-packages (from plotly->chart_studio) (8.0.1)\n",
      "Requirement already satisfied: urllib3<1.27,>=1.21.1 in /Users/alister/anaconda3/lib/python3.9/site-packages (from requests->chart_studio) (1.26.13)\n",
      "Requirement already satisfied: idna<4,>=2.5 in /Users/alister/anaconda3/lib/python3.9/site-packages (from requests->chart_studio) (3.4)\n",
      "Requirement already satisfied: charset-normalizer<3,>=2 in /Users/alister/anaconda3/lib/python3.9/site-packages (from requests->chart_studio) (2.0.4)\n",
      "Requirement already satisfied: certifi>=2017.4.17 in /Users/alister/anaconda3/lib/python3.9/site-packages (from requests->chart_studio) (2022.12.7)\n"
     ]
    }
   ],
   "source": [
    "!pip install leafmap\n",
    "!pip install geopandas\n",
    "!pip install mapclassify\n",
    "!pip install topojson\n",
    "!pip install chart_studio "
   ]
  },
  {
   "cell_type": "markdown",
   "id": "220c9a4b",
   "metadata": {},
   "source": [
    "##### Import the packages:"
   ]
  },
  {
   "cell_type": "code",
   "execution_count": 3,
   "id": "cae5abc0",
   "metadata": {},
   "outputs": [
    {
     "name": "stderr",
     "output_type": "stream",
     "text": [
      "2023-04-10 13:15:19,162 [24490] INFO     numexpr.utils: NumExpr defaulting to 8 threads.\n"
     ]
    }
   ],
   "source": [
    "import leafmap\n",
    "from leafmap import leafmap\n",
    "import leafmap.colormaps as cm\n",
    "import pandas as pd\n",
    "import geopandas as gpd\n",
    "import fiona\n",
    "import rasterio\n",
    "import matplotlib.pyplot as plt\n",
    "from mpl_toolkits.axes_grid1 import make_axes_locatable\n",
    "import mapclassify as mpcl\n",
    "import topojson as tp\n",
    "from shapely import geometry\n",
    "import numpy\n",
    "import json\n",
    "import plotly.express as px\n",
    "import pyproj"
   ]
  },
  {
   "cell_type": "markdown",
   "id": "302c5d70",
   "metadata": {},
   "source": [
    "##### Make sure that leafmap package is up-to-date:"
   ]
  },
  {
   "cell_type": "code",
   "execution_count": null,
   "id": "f1462d9b",
   "metadata": {},
   "outputs": [],
   "source": [
    "leafmap.update_package()"
   ]
  },
  {
   "cell_type": "markdown",
   "id": "265435f3",
   "metadata": {},
   "source": [
    "##### Use GeoPandas to read the LDSim **GPU** [FlatGeobuf](https://flatgeobuf.org/) data layer from VPDC HTTPS URL and return it as a [GeoDataFrame](https://geopandas.org/en/stable/docs/reference/api/geopandas.GeoDataFrame.html)."
   ]
  },
  {
   "cell_type": "code",
   "execution_count": null,
   "id": "42a79afa",
   "metadata": {},
   "outputs": [],
   "source": [
    "yuba_gpu = gpd.read_file(\n",
    "    \"https://storage.googleapis.com/way-find.com/vpdc/data/LDSim/region/Yuba/ldsim_outputs/yuba_gpu.fgb\"\n",
    ")"
   ]
  },
  {
   "cell_type": "markdown",
   "id": "a0473222",
   "metadata": {},
   "source": [
    "##### Use [TopoJson](https://pypi.org/project/topojson/1.0rc4/) to simplify the yuba's geometry in order to speed up rendering \n",
    "\n",
    "**<span style=\"color:red\">WARNING: Only use the simplified geodataframe for visualizing the data. Any spatial analysis, such as determining the area of polygons, etc. should be done with the original \"yuba_gpu\" above.</span>**"
   ]
  },
  {
   "cell_type": "code",
   "execution_count": null,
   "id": "5480b996",
   "metadata": {},
   "outputs": [],
   "source": [
    "topo = tp.Topology(yuba_gpu.to_crs({'init':'epsg:3857'}), prequantize=False)\n",
    "yuba_gpu_smpl = topo.toposimplify(1).to_gdf()"
   ]
  },
  {
   "cell_type": "markdown",
   "id": "3b6df3e8",
   "metadata": {},
   "source": [
    "### Review the hosted LDSim GPU data for the Yuba region"
   ]
  },
  {
   "cell_type": "markdown",
   "id": "2eeaf22b",
   "metadata": {},
   "source": [
    "##### Visualize the GPU data by creating a static plot "
   ]
  },
  {
   "cell_type": "code",
   "execution_count": null,
   "id": "3e62b6de",
   "metadata": {},
   "outputs": [],
   "source": [
    "yuba_gpu_smpl.plot(figsize=(15, 10))"
   ]
  },
  {
   "cell_type": "markdown",
   "id": "f39aa44a",
   "metadata": {},
   "source": [
    "##### Examine the Yuba gpu associated attribute data"
   ]
  },
  {
   "cell_type": "code",
   "execution_count": null,
   "id": "4460c467",
   "metadata": {},
   "outputs": [],
   "source": [
    "yuba_gpu_smpl.head()"
   ]
  },
  {
   "cell_type": "markdown",
   "id": "e2b0d105",
   "metadata": {},
   "source": [
    "##### Plot composite FRID (Fire Return Interval Departure) estimates with an accompanying legend"
   ]
  },
  {
   "cell_type": "code",
   "execution_count": null,
   "id": "7dbd2f32",
   "metadata": {
    "scrolled": true
   },
   "outputs": [],
   "source": [
    "fig = plt.figure(figsize=(5, 5))\n",
    "ax = fig.add_subplot(111)\n",
    "\n",
    "yuba_gpu_smpl.plot(\n",
    "    column='FRID', \n",
    "    ax=ax, \n",
    "    cmap='RdYlGn_r', \n",
    "    legend=True,\n",
    "    legend_kwds={'label': \"Fire Return Interval Departure (FRID) at the 5m cell level\",\n",
    "                        'orientation': \"horizontal\"})\n",
    "\n",
    "ax.set_axis_off();"
   ]
  },
  {
   "cell_type": "markdown",
   "id": "4a9bfd15",
   "metadata": {},
   "source": [
    "### Explore the LDSim GPU data deeper by creating and symbolizing an interactive map"
   ]
  },
  {
   "cell_type": "markdown",
   "id": "c1491eae",
   "metadata": {},
   "source": [
    "##### Create a map instance, add, and explore the raw LDSim GPU [GeoDataFrame](https://geopandas.org/en/stable/docs/reference/api/geopandas.GeoDataFrame.html) data: "
   ]
  },
  {
   "cell_type": "markdown",
   "id": "07eb8c1f",
   "metadata": {},
   "source": [
    "**_NOTE: To explore the GPU data's attributes, hover over a polygon in the map._**"
   ]
  },
  {
   "cell_type": "code",
   "execution_count": null,
   "id": "bbf92d43",
   "metadata": {
    "scrolled": true
   },
   "outputs": [],
   "source": [
    "m = leafmap.Map(center=[39.40, -120.50], zoom=11, height=600, widescreen=False) #create the map instance\n",
    "\n",
    "m.add_gdf(yuba_gpu_smpl, layer_name=\"Yuba GPU\") #add the layer to the map instance\n",
    "\n",
    "m #draw the map instance"
   ]
  },
  {
   "cell_type": "markdown",
   "id": "dd142fd6",
   "metadata": {},
   "source": [
    "##### Review the GPU file's data dictionary to better understand the attributes of the data: "
   ]
  },
  {
   "cell_type": "code",
   "execution_count": null,
   "id": "702dccdb",
   "metadata": {},
   "outputs": [],
   "source": [
    "gpu_data_dictionary = \"https://storage.googleapis.com/way-find.com/vpdc/data/LDSim/region/Yuba/ldsim_outputs/gpuResults/documents/Yuba_gpuResults_dataDictionary.csv\"\n",
    "gpu_dd = pd.read_csv(gpu_data_dictionary)\n",
    "gpu_dd"
   ]
  },
  {
   "cell_type": "markdown",
   "id": "e784191a",
   "metadata": {},
   "source": [
    "##### Save the Yuba GPU data dictionary csv file to your local directory to review in tandem with this notebook: \n",
    "\n",
    "**<span style=\"color:red\">TODO: VERIFY THAT THE DATASET IS AVAILABLE TO OTHER USERS.</span>**"
   ]
  },
  {
   "cell_type": "code",
   "execution_count": null,
   "id": "653946c2",
   "metadata": {},
   "outputs": [],
   "source": [
    "gpu_dd.to_csv('yuba_gpu_dataDictionary.csv')## Save the CSV file to root of local directory"
   ]
  },
  {
   "cell_type": "markdown",
   "id": "55215332",
   "metadata": {},
   "source": [
    "### Symbolize the gpu units to match various criteria"
   ]
  },
  {
   "cell_type": "markdown",
   "id": "3a07eddd",
   "metadata": {},
   "source": [
    "##### Symbolize the GPU unit to show the Fire Return Interval Departure (FRID) at the 5m cell level classsified using Natural Breaks. "
   ]
  },
  {
   "cell_type": "code",
   "execution_count": null,
   "id": "2338d487",
   "metadata": {},
   "outputs": [],
   "source": [
    "m = leafmap.Map(\n",
    "    google_map=\"HYBRID\", \n",
    "    draw_control=False,\n",
    "    measure_control=False,\n",
    "    center=[39.40, -120.50],\n",
    "    zoom=11,\n",
    ")\n",
    "\n",
    "m.add_data(\n",
    "    yuba_gpu_smpl, column='FRID', scheme='NaturalBreaks', cmap='RdYlGn_r', legend_title='FRID (Fire Return Interval Departure)', layer_name = 'Yuba FRID', k=10\n",
    ")\n",
    "\n",
    "m\n"
   ]
  },
  {
   "cell_type": "markdown",
   "id": "ac25a320",
   "metadata": {},
   "source": [
    "The map above shows the FRID (Fire Return Interval Departure) classified at the GPU scale. Positive values represent a contemporary Fire Return Interval > the pre-settlement Fire Return Interval and, conversely, negative values represent a contemporary Fire Return Interval < the pre-settlement Fire Return Interval."
   ]
  },
  {
   "cell_type": "markdown",
   "id": "ccbdc661",
   "metadata": {},
   "source": [
    "### Review data with Plotly graphing package"
   ]
  },
  {
   "cell_type": "code",
   "execution_count": null,
   "id": "86af301f",
   "metadata": {},
   "outputs": [],
   "source": [
    "yuba_gpu_smpl.to_crs(epsg=4326, inplace=True)\n",
    "\n",
    "#gdf.set_index('id', inplace=True)\n",
    "fig = px.choropleth_mapbox(gdf,\n",
    "                           geojson=gdf['geometry'],\n",
    "                           locations=gdf.index,\n",
    "                           color='FRID',\n",
    "                           color_continuous_scale=\"rdylgn\",\n",
    "                           mapbox_style=\"open-street-map\",\n",
    "                           center={'lat':39.20, 'lon':-120.50},\n",
    "                           zoom=12,\n",
    "                           opacity=1,\n",
    "                           height=900\n",
    "                          )\n",
    "fig.show()"
   ]
  }
 ],
 "metadata": {
  "kernelspec": {
   "display_name": "Python 3 (ipykernel)",
   "language": "python",
   "name": "python3"
  },
  "language_info": {
   "codemirror_mode": {
    "name": "ipython",
    "version": 3
   },
   "file_extension": ".py",
   "mimetype": "text/x-python",
   "name": "python",
   "nbconvert_exporter": "python",
   "pygments_lexer": "ipython3",
   "version": "3.9.15"
  }
 },
 "nbformat": 4,
 "nbformat_minor": 5
}
