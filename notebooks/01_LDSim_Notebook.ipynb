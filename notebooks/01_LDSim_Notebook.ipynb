{
 "cells": [
  {
   "cell_type": "markdown",
   "id": "e5099f51",
   "metadata": {},
   "source": [
    "## Explore LDSim GPU data via Jupyter notebook"
   ]
  },
  {
   "cell_type": "markdown",
   "id": "da7c1299",
   "metadata": {},
   "source": [
    "### This notebook relies on several free and open-source Python packages, such as [Leafmap](https://leafmap.org), [plotly](https://plotly.com/python/getting-started/), [ipyleaflet](https://ipyleaflet.readthedocs.io/en/latest/), [GeoPandas](https://geopandas.org/en/stable/), [Fiona](https://pypi.org/project/Fiona/), [Rasterio](https://rasterio.readthedocs.io/en/stable/), and [matplotlib](https://matplotlib.org/) that each contribute different tools in Python that empower users to do interactive mapping, geospatial analysis, and data visualization within a Jupyter notebook."
   ]
  },
  {
   "cell_type": "markdown",
   "id": "8db24628",
   "metadata": {},
   "source": [
    "#### For example, Leafmap is a Python package that enables geospatial analysis and interactive mapping within a Jupyter environment. Leafmap leverages several other open-source packages, such as `ipyleaflet`, which enables complex interactive mapping, WhiteboxTools, and `whiteboxgui`, which allows for complex geospatial analysis; and `ipywidgets` for designing interactive graphical user interfaces (GUIs). Leafmap's interactive *mapping* interface is contrasted with plotly, an interactive *plotting* library that supports over 40 unique chart types. \n",
    "\n",
    "**<span style=\"color:red\">NOTE: Many of these tools will need ample time to run depending on contributing factors such as the complexity of the data package, network speed, and server load.</span>**"
   ]
  },
  {
   "cell_type": "markdown",
   "id": "15dc9a4f",
   "metadata": {},
   "source": [
    "### Begin by installing necesssary packages: [leafmap](https://leafmap.org)  and [GeoPandas](https://geopandas.org/en/stable/).\n",
    "\n",
    "**NOTE:** If you already have the following packages installed, such as leafmap and geopandas, comment out the code below by adding \"#\" in front of each line. \n",
    "`# !pip install leafmap`"
   ]
  },
  {
   "cell_type": "code",
   "execution_count": null,
   "id": "600967c5",
   "metadata": {},
   "outputs": [],
   "source": [
    "!pip install leafmap\n",
    "!pip install geopandas \n",
    "!pip install mapclassify \n",
    "!pip install topojson # can use to simplify geometry and speed up rendering/processing times\n",
    "!pip install chart_studio # Adds Plotly dependencies\n",
    "!pip install rasterio "
   ]
  },
  {
   "cell_type": "markdown",
   "id": "220c9a4b",
   "metadata": {},
   "source": [
    "### Import the packages:"
   ]
  },
  {
   "cell_type": "code",
   "execution_count": null,
   "id": "cae5abc0",
   "metadata": {},
   "outputs": [],
   "source": [
    "import leafmap\n",
    "from leafmap import leafmap\n",
    "import leafmap.colormaps as cm\n",
    "import pandas as pd\n",
    "import geopandas as gpd\n",
    "import fiona\n",
    "import rasterio\n",
    "import matplotlib.pyplot as plt\n",
    "from mpl_toolkits.axes_grid1 import make_axes_locatable\n",
    "import mapclassify as mpcl\n",
    "import topojson as tp\n",
    "from shapely import geometry\n",
    "import numpy\n",
    "import json\n",
    "import plotly.express as px\n",
    "import pyproj"
   ]
  },
  {
   "cell_type": "markdown",
   "id": "302c5d70",
   "metadata": {},
   "source": [
    "### Make sure that leafmap package is up-to-date:"
   ]
  },
  {
   "cell_type": "code",
   "execution_count": null,
   "id": "f1462d9b",
   "metadata": {},
   "outputs": [],
   "source": [
    "leafmap.update_package()"
   ]
  },
  {
   "cell_type": "markdown",
   "id": "265435f3",
   "metadata": {},
   "source": [
    "### Use GeoPandas to read the LDSim **GPU** [FlatGeobuf](https://flatgeobuf.org/) data layer from VPDC HTTPS URL and return it as a [GeoDataFrame](https://geopandas.org/en/stable/docs/reference/api/geopandas.GeoDataFrame.html)."
   ]
  },
  {
   "cell_type": "code",
   "execution_count": null,
   "id": "42a79afa",
   "metadata": {},
   "outputs": [],
   "source": [
    "yuba_gpu = gpd.read_file(\n",
    "    \"https://storage.googleapis.com/way-find.com/vpdc/data/LDSim/region/Yuba/ldsim_outputs/yuba_gpu.fgb\"\n",
    ")"
   ]
  },
  {
   "cell_type": "markdown",
   "id": "a0473222",
   "metadata": {},
   "source": [
    "### Use [TopoJson](https://pypi.org/project/topojson/1.0rc4/) to simplify the yuba's geometry in order to speed up rendering \n",
    "\n",
    "**<span style=\"color:red\">WARNING: Only use the simplified geodataframe for visualizing the data. Any spatial analysis, such as determining the area of polygons, etc. should be done with the original \"yuba_gpu\" above.</span>**"
   ]
  },
  {
   "cell_type": "code",
   "execution_count": null,
   "id": "5480b996",
   "metadata": {},
   "outputs": [],
   "source": [
    "topo = tp.Topology(yuba_gpu.to_crs({'init':'epsg:3857'}), prequantize=False)\n",
    "yuba_gpu_smpl = topo.toposimplify(1).to_gdf()"
   ]
  },
  {
   "cell_type": "markdown",
   "id": "3b6df3e8",
   "metadata": {},
   "source": [
    "## Review the hosted LDSim GPU data for the Yuba region"
   ]
  },
  {
   "cell_type": "markdown",
   "id": "2eeaf22b",
   "metadata": {},
   "source": [
    "### Visualize the GPU data by creating a static plot "
   ]
  },
  {
   "cell_type": "code",
   "execution_count": null,
   "id": "3e62b6de",
   "metadata": {},
   "outputs": [],
   "source": [
    "yuba_gpu_smpl.plot(figsize=(15, 10))"
   ]
  },
  {
   "cell_type": "markdown",
   "id": "f39aa44a",
   "metadata": {},
   "source": [
    "### Examine the Yuba gpu associated attribute data"
   ]
  },
  {
   "cell_type": "code",
   "execution_count": null,
   "id": "4460c467",
   "metadata": {},
   "outputs": [],
   "source": [
    "yuba_gpu_smpl.head()"
   ]
  },
  {
   "cell_type": "markdown",
   "id": "e2b0d105",
   "metadata": {},
   "source": [
    "### Plot composite FRID (Fire Return Interval Departure) estimates with an accompanying legend"
   ]
  },
  {
   "cell_type": "code",
   "execution_count": null,
   "id": "7dbd2f32",
   "metadata": {
    "scrolled": true
   },
   "outputs": [],
   "source": [
    "fig = plt.figure(figsize=(5, 5))\n",
    "ax = fig.add_subplot(111)\n",
    "\n",
    "yuba_gpu_smpl.plot(\n",
    "    column='FRID', \n",
    "    ax=ax, \n",
    "    cmap='RdYlGn_r', \n",
    "    legend=True,\n",
    "    legend_kwds={'label': \"Fire Return Interval Departure (FRID) at the 5m cell level\",\n",
    "                        'orientation': \"horizontal\"})\n",
    "\n",
    "ax.set_axis_off();"
   ]
  },
  {
   "cell_type": "markdown",
   "id": "4a9bfd15",
   "metadata": {},
   "source": [
    "## Explore the LDSim GPU data deeper by creating and symbolizing an interactive map"
   ]
  },
  {
   "cell_type": "markdown",
   "id": "c1491eae",
   "metadata": {},
   "source": [
    "### Create a map instance, add, and explore the raw LDSim GPU [GeoDataFrame](https://geopandas.org/en/stable/docs/reference/api/geopandas.GeoDataFrame.html) data: "
   ]
  },
  {
   "cell_type": "markdown",
   "id": "07eb8c1f",
   "metadata": {},
   "source": [
    "**_NOTE: To explore the GPU data's attributes, hover over a polygon in the map._**"
   ]
  },
  {
   "cell_type": "code",
   "execution_count": null,
   "id": "bbf92d43",
   "metadata": {
    "scrolled": true
   },
   "outputs": [],
   "source": [
    "m = leafmap.Map(center=[39.40, -120.50], zoom=11, height=600, widescreen=False) #create the map instance\n",
    "\n",
    "m.add_gdf(yuba_gpu_smpl, layer_name=\"Yuba GPU\") #add the layer to the map instance\n",
    "\n",
    "m #draw the map instance"
   ]
  },
  {
   "cell_type": "markdown",
   "id": "dd142fd6",
   "metadata": {},
   "source": [
    "### Review the GPU file's data dictionary to better understand the attributes of the data: "
   ]
  },
  {
   "cell_type": "code",
   "execution_count": null,
   "id": "702dccdb",
   "metadata": {},
   "outputs": [],
   "source": [
    "gpu_data_dictionary = \"https://storage.googleapis.com/way-find.com/vpdc/data/LDSim/region/Yuba/ldsim_outputs/gpuResults/documents/Yuba_gpuResults_dataDictionary.csv\"\n",
    "gpu_dd = pd.read_csv(gpu_data_dictionary)\n",
    "gpu_dd"
   ]
  },
  {
   "cell_type": "markdown",
   "id": "e784191a",
   "metadata": {},
   "source": [
    "### Save the Yuba GPU data dictionary csv file to your local directory to review in tandem with this notebook: \n",
    "\n",
    "**<span style=\"color:red\">TODO: VERIFY THAT THE DATASET IS AVAILABLE TO OTHER USERS.</span>**"
   ]
  },
  {
   "cell_type": "code",
   "execution_count": null,
   "id": "653946c2",
   "metadata": {},
   "outputs": [],
   "source": [
    "gpu_dd.to_csv('yuba_gpu_dataDictionary.csv')## Save the CSV file to root of local directory"
   ]
  },
  {
   "cell_type": "markdown",
   "id": "55215332",
   "metadata": {},
   "source": [
    "## Symbolize the gpu units to match various criteria"
   ]
  },
  {
   "cell_type": "markdown",
   "id": "3a07eddd",
   "metadata": {},
   "source": [
    "### Symbolize the GPU unit to show the Fire Return Interval Departure (FRID) at the 5m cell level classsified using Natural Breaks. "
   ]
  },
  {
   "cell_type": "code",
   "execution_count": null,
   "id": "2338d487",
   "metadata": {},
   "outputs": [],
   "source": [
    "m = leafmap.Map(\n",
    "    google_map=\"HYBRID\", \n",
    "    draw_control=False,\n",
    "    measure_control=False,\n",
    "    center=[39.40, -120.50],\n",
    "    zoom=11,\n",
    ")\n",
    "\n",
    "m.add_data(\n",
    "    yuba_gpu_smpl, column='FRID', scheme='NaturalBreaks', cmap='RdYlGn_r', legend_title='FRID (Fire Return Interval Departure)', layer_name = 'Yuba FRID', k=10\n",
    ")\n",
    "\n",
    "m\n"
   ]
  },
  {
   "cell_type": "markdown",
   "id": "ac25a320",
   "metadata": {},
   "source": [
    "The map above shows the FRID (Fire Return Interval Departure) classified at the GPU scale. Positive values represent a contemporary Fire Return Interval > the pre-settlement Fire Return Interval and, conversely, negative values represent a contemporary Fire Return Interval < the pre-settlement Fire Return Interval."
   ]
  },
  {
   "cell_type": "markdown",
   "id": "ccbdc661",
   "metadata": {},
   "source": [
    "### Review data with Plotly graphing package"
   ]
  },
  {
   "cell_type": "code",
   "execution_count": null,
   "id": "86af301f",
   "metadata": {},
   "outputs": [],
   "source": [
    "yuba_gpu_smpl.to_crs(epsg=4326, inplace=True)\n",
    "\n",
    "#gdf.set_index('id', inplace=True)\n",
    "fig = px.choropleth_mapbox(yuba_gpu_smpl,\n",
    "                           geojson=yuba_gpu_smpl['geometry'],\n",
    "                           locations=yuba_gpu_smpl.index,\n",
    "                           color='FRID',\n",
    "                           color_continuous_scale=\"rdylgn_r\",\n",
    "                           mapbox_style=\"carto-positron\",\n",
    "                           center={'lat':39.5597, 'lon':-120.82873},\n",
    "                           zoom=9,\n",
    "                           opacity=1,\n",
    "                           height=900\n",
    "                          )\n",
    "fig.update_layout(margin={\"r\":0,\"t\":0,\"l\":0,\"b\":0})\n",
    "fig.show()"
   ]
  }
 ],
 "metadata": {
  "kernelspec": {
   "display_name": "Python 3 (ipykernel)",
   "language": "python",
   "name": "python3"
  },
  "language_info": {
   "codemirror_mode": {
    "name": "ipython",
    "version": 3
   },
   "file_extension": ".py",
   "mimetype": "text/x-python",
   "name": "python",
   "nbconvert_exporter": "python",
   "pygments_lexer": "ipython3",
   "version": "3.9.15"
  }
 },
 "nbformat": 4,
 "nbformat_minor": 5
}
